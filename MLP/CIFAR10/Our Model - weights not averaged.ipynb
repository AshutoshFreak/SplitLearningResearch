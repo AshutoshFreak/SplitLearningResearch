{
 "metadata": {
  "language_info": {
   "codemirror_mode": {
    "name": "ipython",
    "version": 3
   },
   "file_extension": ".py",
   "mimetype": "text/x-python",
   "name": "python",
   "nbconvert_exporter": "python",
   "pygments_lexer": "ipython3",
   "version": "3.8.5-final"
  },
  "orig_nbformat": 2,
  "kernelspec": {
   "name": "python38564bitsyft02xvenv7c6ccf33212345778ace1db0c32ec36c",
   "display_name": "Python 3.8.5 64-bit ('syft-0.2.x': venv)"
  }
 },
 "nbformat": 4,
 "nbformat_minor": 2,
 "cells": [
  {
   "source": [
    "- [x]  Train Accuracy & Test Accuracy vs Epochs  \n",
    "- [x]  Saturated Train Accuracy vs. Num_clients  \n",
    "- [x]  Saturated Testing Accuracy vs. Num_Clients  \n",
    "- [x]  Training accuracy vs Each client bar graph  \n",
    "- [x]  Testing accuracy vs Each client bar graph  \n",
    "- [x]  Generalising for multiple users   \n",
    "- [x]  Accuracy per user  \n",
    "- [x]  Different datasets  \n",
    "- [x]  All of these for CNN model  \n",
    "- [ ]  Transfer learning  \n",
    "- [ ]  Trying on pregnancy data and breast cancer dataset \n",
    "- [ ]  Max batch size for each client  \n",
    "- [ ]  Calculate network overhead and computation per user "
   ],
   "cell_type": "markdown",
   "metadata": {}
  },
  {
   "cell_type": "code",
   "execution_count": 1,
   "metadata": {},
   "outputs": [],
   "source": [
    "import torch\n",
    "import torch.nn as nn\n",
    "import torchvision\n",
    "import torchvision.transforms as transforms\n",
    "import matplotlib.pyplot as plt\n",
    "from math import ceil"
   ]
  },
  {
   "cell_type": "code",
   "execution_count": 2,
   "metadata": {},
   "outputs": [],
   "source": [
    "# Device Configuration\n",
    "device = torch.device('cuda' if torch.cuda.is_available() else 'cpu')"
   ]
  },
  {
   "cell_type": "code",
   "execution_count": 3,
   "metadata": {},
   "outputs": [],
   "source": [
    "# Hyper-parameters\n",
    "input_size = 3072\n",
    "hidden_size1 = 500\n",
    "hidden_size2 = 200\n",
    "num_classes = 10\n",
    "num_epochs = 20\n",
    "learning_rate = 0.01"
   ]
  },
  {
   "cell_type": "code",
   "execution_count": 4,
   "metadata": {},
   "outputs": [],
   "source": [
    "num_clients = 10"
   ]
  },
  {
   "cell_type": "code",
   "execution_count": 5,
   "metadata": {
    "tags": []
   },
   "outputs": [
    {
     "output_type": "stream",
     "name": "stdout",
     "text": [
      "Files already downloaded and verified\n",
      "torch.Size([5000, 3, 32, 32])\n",
      "torch.Size([5000])\n"
     ]
    }
   ],
   "source": [
    "# MNIST dataset\n",
    "\n",
    "# !wget https://www.cs.toronto.edu/~kriz/cifar-10-python.tar.gz\n",
    "# !tar -zxvf cifar-10-python.tar.gz ../../data\n",
    "\n",
    "train_dataset = torchvision.datasets.CIFAR10(root='../../data',\n",
    "                                           train=True,\n",
    "                                           transform=transforms.ToTensor(),\n",
    "                                           download=True)\n",
    "                                            \n",
    "\n",
    "test_dataset = torchvision.datasets.CIFAR10(root='../../data',\n",
    "                                          train=False,\n",
    "                                          transform=transforms.ToTensor())\n",
    "\n",
    "\n",
    "train_batch_size = len(train_dataset)//num_clients\n",
    "train_split = [train_batch_size]*(num_clients-1)\n",
    "train_split.append(len(train_dataset)-train_batch_size*(num_clients-1))\n",
    "\n",
    "test_batch_size = len(test_dataset)//num_clients\n",
    "test_split = [test_batch_size]*(num_clients-1)\n",
    "test_split.append(len(test_dataset)-test_batch_size*(num_clients-1))\n",
    "\n",
    "train_datasets = list(torch.utils.data.random_split(train_dataset, train_split))\n",
    "test_datasets = list(torch.utils.data.random_split(test_dataset, test_split))\n",
    "\n",
    "# Data loaders\n",
    "train_loaders = []\n",
    "for train_dataset in train_datasets:\n",
    "    train_loaders.append(torch.utils.data.DataLoader(dataset=train_dataset,\n",
    "                                                batch_size=train_batch_size,\n",
    "                                                shuffle=True))\n",
    "\n",
    "test_loaders = []\n",
    "for test_dataset in test_datasets:\n",
    "    test_loaders.append(torch.utils.data.DataLoader(dataset=test_dataset,\n",
    "                                                batch_size=test_batch_size,\n",
    "                                                shuffle=True))"
   ]
  },
  {
   "cell_type": "code",
   "execution_count": 6,
   "metadata": {},
   "outputs": [
    {
     "output_type": "stream",
     "name": "stdout",
     "text": [
      "torch.Size([1000, 3, 32, 32]) torch.Size([1000])\n"
     ]
    }
   ],
   "source": [
    "examples = iter(test_loaders[0])\n",
    "example_data, example_targets = examples.next()\n",
    "print(example_data.shape, example_targets.shape)"
   ]
  },
  {
   "cell_type": "code",
   "execution_count": 7,
   "metadata": {},
   "outputs": [
    {
     "output_type": "display_data",
     "data": {
      "text/plain": "<Figure size 432x288 with 6 Axes>",
      "image/svg+xml": "<?xml version=\"1.0\" encoding=\"utf-8\" standalone=\"no\"?>\n<!DOCTYPE svg PUBLIC \"-//W3C//DTD SVG 1.1//EN\"\n  \"http://www.w3.org/Graphics/SVG/1.1/DTD/svg11.dtd\">\n<!-- Created with matplotlib (https://matplotlib.org/) -->\n<svg height=\"263.270475pt\" version=\"1.1\" viewBox=\"0 0 368.925 263.270475\" width=\"368.925pt\" xmlns=\"http://www.w3.org/2000/svg\" xmlns:xlink=\"http://www.w3.org/1999/xlink\">\n <metadata>\n  <rdf:RDF xmlns:cc=\"http://creativecommons.org/ns#\" xmlns:dc=\"http://purl.org/dc/elements/1.1/\" xmlns:rdf=\"http://www.w3.org/1999/02/22-rdf-syntax-ns#\">\n   <cc:Work>\n    <dc:type rdf:resource=\"http://purl.org/dc/dcmitype/StillImage\"/>\n    <dc:date>2021-05-03T22:08:39.534575</dc:date>\n    <dc:format>image/svg+xml</dc:format>\n    <dc:creator>\n     <cc:Agent>\n      <dc:title>Matplotlib v3.3.4, https://matplotlib.org/</dc:title>\n     </cc:Agent>\n    </dc:creator>\n   </cc:Work>\n  </rdf:RDF>\n </metadata>\n <defs>\n  <style type=\"text/css\">*{stroke-linecap:butt;stroke-linejoin:round;}</style>\n </defs>\n <g id=\"figure_1\">\n  <g id=\"patch_1\">\n   <path d=\"M -0 263.270475 \nL 368.925 263.270475 \nL 368.925 0 \nL -0 0 \nz\n\" style=\"fill:none;\"/>\n  </g>\n  <g id=\"axes_1\">\n   <g id=\"patch_2\">\n    <path d=\"M 26.925 120.788713 \nL 125.395588 120.788713 \nL 125.395588 22.318125 \nL 26.925 22.318125 \nz\n\" style=\"fill:#ffffff;\"/>\n   </g>\n   <g clip-path=\"url(#peb026c2b7c)\">\n    <image height=\"99\" id=\"image0fa98307bc\" transform=\"scale(1 -1)translate(0 -99)\" width=\"99\" x=\"26.925\" xlink:href=\"data:image/png;base64,\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\" y=\"-21.788713\"/>\n   </g>\n   <g id=\"matplotlib.axis_1\">\n    <g id=\"xtick_1\">\n     <g id=\"line2d_1\">\n      <defs>\n       <path d=\"M 0 0 \nL 0 3.5 \n\" id=\"mdc139cf3c1\" style=\"stroke:#000000;stroke-width:0.8;\"/>\n      </defs>\n      <g>\n       <use style=\"stroke:#000000;stroke-width:0.8;\" x=\"28.463603\" xlink:href=\"#mdc139cf3c1\" y=\"120.788713\"/>\n      </g>\n     </g>\n     <g id=\"text_1\">\n      <!-- 0 -->\n      <g transform=\"translate(25.282353 135.387151)scale(0.1 -0.1)\">\n       <defs>\n        <path d=\"M 31.78125 66.40625 \nQ 24.171875 66.40625 20.328125 58.90625 \nQ 16.5 51.421875 16.5 36.375 \nQ 16.5 21.390625 20.328125 13.890625 \nQ 24.171875 6.390625 31.78125 6.390625 \nQ 39.453125 6.390625 43.28125 13.890625 \nQ 47.125 21.390625 47.125 36.375 \nQ 47.125 51.421875 43.28125 58.90625 \nQ 39.453125 66.40625 31.78125 66.40625 \nz\nM 31.78125 74.21875 \nQ 44.046875 74.21875 50.515625 64.515625 \nQ 56.984375 54.828125 56.984375 36.375 \nQ 56.984375 17.96875 50.515625 8.265625 \nQ 44.046875 -1.421875 31.78125 -1.421875 \nQ 19.53125 -1.421875 13.0625 8.265625 \nQ 6.59375 17.96875 6.59375 36.375 \nQ 6.59375 54.828125 13.0625 64.515625 \nQ 19.53125 74.21875 31.78125 74.21875 \nz\n\" id=\"DejaVuSans-48\"/>\n       </defs>\n       <use xlink:href=\"#DejaVuSans-48\"/>\n      </g>\n     </g>\n    </g>\n    <g id=\"xtick_2\">\n     <g id=\"line2d_2\">\n      <g>\n       <use style=\"stroke:#000000;stroke-width:0.8;\" x=\"90.007721\" xlink:href=\"#mdc139cf3c1\" y=\"120.788713\"/>\n      </g>\n     </g>\n     <g id=\"text_2\">\n      <!-- 20 -->\n      <g transform=\"translate(83.645221 135.387151)scale(0.1 -0.1)\">\n       <defs>\n        <path d=\"M 19.1875 8.296875 \nL 53.609375 8.296875 \nL 53.609375 0 \nL 7.328125 0 \nL 7.328125 8.296875 \nQ 12.9375 14.109375 22.625 23.890625 \nQ 32.328125 33.6875 34.8125 36.53125 \nQ 39.546875 41.84375 41.421875 45.53125 \nQ 43.3125 49.21875 43.3125 52.78125 \nQ 43.3125 58.59375 39.234375 62.25 \nQ 35.15625 65.921875 28.609375 65.921875 \nQ 23.96875 65.921875 18.8125 64.3125 \nQ 13.671875 62.703125 7.8125 59.421875 \nL 7.8125 69.390625 \nQ 13.765625 71.78125 18.9375 73 \nQ 24.125 74.21875 28.421875 74.21875 \nQ 39.75 74.21875 46.484375 68.546875 \nQ 53.21875 62.890625 53.21875 53.421875 \nQ 53.21875 48.921875 51.53125 44.890625 \nQ 49.859375 40.875 45.40625 35.40625 \nQ 44.1875 33.984375 37.640625 27.21875 \nQ 31.109375 20.453125 19.1875 8.296875 \nz\n\" id=\"DejaVuSans-50\"/>\n       </defs>\n       <use xlink:href=\"#DejaVuSans-50\"/>\n       <use x=\"63.623047\" xlink:href=\"#DejaVuSans-48\"/>\n      </g>\n     </g>\n    </g>\n   </g>\n   <g id=\"matplotlib.axis_2\">\n    <g id=\"ytick_1\">\n     <g id=\"line2d_3\">\n      <defs>\n       <path d=\"M 0 0 \nL -3.5 0 \n\" id=\"mbe644bdf9f\" style=\"stroke:#000000;stroke-width:0.8;\"/>\n      </defs>\n      <g>\n       <use style=\"stroke:#000000;stroke-width:0.8;\" x=\"26.925\" xlink:href=\"#mbe644bdf9f\" y=\"23.856728\"/>\n      </g>\n     </g>\n     <g id=\"text_3\">\n      <!-- 0 -->\n      <g transform=\"translate(13.5625 27.655947)scale(0.1 -0.1)\">\n       <use xlink:href=\"#DejaVuSans-48\"/>\n      </g>\n     </g>\n    </g>\n    <g id=\"ytick_2\">\n     <g id=\"line2d_4\">\n      <g>\n       <use style=\"stroke:#000000;stroke-width:0.8;\" x=\"26.925\" xlink:href=\"#mbe644bdf9f\" y=\"54.628787\"/>\n      </g>\n     </g>\n     <g id=\"text_4\">\n      <!-- 10 -->\n      <g transform=\"translate(7.2 58.428006)scale(0.1 -0.1)\">\n       <defs>\n        <path d=\"M 12.40625 8.296875 \nL 28.515625 8.296875 \nL 28.515625 63.921875 \nL 10.984375 60.40625 \nL 10.984375 69.390625 \nL 28.421875 72.90625 \nL 38.28125 72.90625 \nL 38.28125 8.296875 \nL 54.390625 8.296875 \nL 54.390625 0 \nL 12.40625 0 \nz\n\" id=\"DejaVuSans-49\"/>\n       </defs>\n       <use xlink:href=\"#DejaVuSans-49\"/>\n       <use x=\"63.623047\" xlink:href=\"#DejaVuSans-48\"/>\n      </g>\n     </g>\n    </g>\n    <g id=\"ytick_3\">\n     <g id=\"line2d_5\">\n      <g>\n       <use style=\"stroke:#000000;stroke-width:0.8;\" x=\"26.925\" xlink:href=\"#mbe644bdf9f\" y=\"85.400846\"/>\n      </g>\n     </g>\n     <g id=\"text_5\">\n      <!-- 20 -->\n      <g transform=\"translate(7.2 89.200064)scale(0.1 -0.1)\">\n       <use xlink:href=\"#DejaVuSans-50\"/>\n       <use x=\"63.623047\" xlink:href=\"#DejaVuSans-48\"/>\n      </g>\n     </g>\n    </g>\n    <g id=\"ytick_4\">\n     <g id=\"line2d_6\">\n      <g>\n       <use style=\"stroke:#000000;stroke-width:0.8;\" x=\"26.925\" xlink:href=\"#mbe644bdf9f\" y=\"116.172904\"/>\n      </g>\n     </g>\n     <g id=\"text_6\">\n      <!-- 30 -->\n      <g transform=\"translate(7.2 119.972123)scale(0.1 -0.1)\">\n       <defs>\n        <path d=\"M 40.578125 39.3125 \nQ 47.65625 37.796875 51.625 33 \nQ 55.609375 28.21875 55.609375 21.1875 \nQ 55.609375 10.40625 48.1875 4.484375 \nQ 40.765625 -1.421875 27.09375 -1.421875 \nQ 22.515625 -1.421875 17.65625 -0.515625 \nQ 12.796875 0.390625 7.625 2.203125 \nL 7.625 11.71875 \nQ 11.71875 9.328125 16.59375 8.109375 \nQ 21.484375 6.890625 26.8125 6.890625 \nQ 36.078125 6.890625 40.9375 10.546875 \nQ 45.796875 14.203125 45.796875 21.1875 \nQ 45.796875 27.640625 41.28125 31.265625 \nQ 36.765625 34.90625 28.71875 34.90625 \nL 20.21875 34.90625 \nL 20.21875 43.015625 \nL 29.109375 43.015625 \nQ 36.375 43.015625 40.234375 45.921875 \nQ 44.09375 48.828125 44.09375 54.296875 \nQ 44.09375 59.90625 40.109375 62.90625 \nQ 36.140625 65.921875 28.71875 65.921875 \nQ 24.65625 65.921875 20.015625 65.03125 \nQ 15.375 64.15625 9.8125 62.3125 \nL 9.8125 71.09375 \nQ 15.4375 72.65625 20.34375 73.4375 \nQ 25.25 74.21875 29.59375 74.21875 \nQ 40.828125 74.21875 47.359375 69.109375 \nQ 53.90625 64.015625 53.90625 55.328125 \nQ 53.90625 49.265625 50.4375 45.09375 \nQ 46.96875 40.921875 40.578125 39.3125 \nz\n\" id=\"DejaVuSans-51\"/>\n       </defs>\n       <use xlink:href=\"#DejaVuSans-51\"/>\n       <use x=\"63.623047\" xlink:href=\"#DejaVuSans-48\"/>\n      </g>\n     </g>\n    </g>\n   </g>\n   <g id=\"patch_3\">\n    <path d=\"M 26.925 120.788713 \nL 26.925 22.318125 \n\" style=\"fill:none;stroke:#000000;stroke-linecap:square;stroke-linejoin:miter;stroke-width:0.8;\"/>\n   </g>\n   <g id=\"patch_4\">\n    <path d=\"M 125.395588 120.788713 \nL 125.395588 22.318125 \n\" style=\"fill:none;stroke:#000000;stroke-linecap:square;stroke-linejoin:miter;stroke-width:0.8;\"/>\n   </g>\n   <g id=\"patch_5\">\n    <path d=\"M 26.925 120.788713 \nL 125.395588 120.788713 \n\" style=\"fill:none;stroke:#000000;stroke-linecap:square;stroke-linejoin:miter;stroke-width:0.8;\"/>\n   </g>\n   <g id=\"patch_6\">\n    <path d=\"M 26.925 22.318125 \nL 125.395588 22.318125 \n\" style=\"fill:none;stroke:#000000;stroke-linecap:square;stroke-linejoin:miter;stroke-width:0.8;\"/>\n   </g>\n   <g id=\"text_7\">\n    <!-- 0 -->\n    <g transform=\"translate(72.342794 16.318125)scale(0.12 -0.12)\">\n     <use xlink:href=\"#DejaVuSans-48\"/>\n    </g>\n   </g>\n  </g>\n  <g id=\"axes_2\">\n   <g id=\"patch_7\">\n    <path d=\"M 145.089706 120.788713 \nL 243.560294 120.788713 \nL 243.560294 22.318125 \nL 145.089706 22.318125 \nz\n\" style=\"fill:#ffffff;\"/>\n   </g>\n   <g clip-path=\"url(#p5994fd0dba)\">\n    <image height=\"99\" id=\"image68476202d2\" transform=\"scale(1 -1)translate(0 -99)\" width=\"99\" x=\"145.089706\" xlink:href=\"data:image/png;base64,\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\" y=\"-21.788713\"/>\n   </g>\n   <g id=\"matplotlib.axis_3\">\n    <g id=\"xtick_3\">\n     <g id=\"line2d_7\">\n      <g>\n       <use style=\"stroke:#000000;stroke-width:0.8;\" x=\"146.628309\" xlink:href=\"#mdc139cf3c1\" y=\"120.788713\"/>\n      </g>\n     </g>\n     <g id=\"text_8\">\n      <!-- 0 -->\n      <g transform=\"translate(143.447059 135.387151)scale(0.1 -0.1)\">\n       <use xlink:href=\"#DejaVuSans-48\"/>\n      </g>\n     </g>\n    </g>\n    <g id=\"xtick_4\">\n     <g id=\"line2d_8\">\n      <g>\n       <use style=\"stroke:#000000;stroke-width:0.8;\" x=\"208.172426\" xlink:href=\"#mdc139cf3c1\" y=\"120.788713\"/>\n      </g>\n     </g>\n     <g id=\"text_9\">\n      <!-- 20 -->\n      <g transform=\"translate(201.809926 135.387151)scale(0.1 -0.1)\">\n       <use xlink:href=\"#DejaVuSans-50\"/>\n       <use x=\"63.623047\" xlink:href=\"#DejaVuSans-48\"/>\n      </g>\n     </g>\n    </g>\n   </g>\n   <g id=\"matplotlib.axis_4\">\n    <g id=\"ytick_5\">\n     <g id=\"line2d_9\">\n      <g>\n       <use style=\"stroke:#000000;stroke-width:0.8;\" x=\"145.089706\" xlink:href=\"#mbe644bdf9f\" y=\"23.856728\"/>\n      </g>\n     </g>\n     <g id=\"text_10\">\n      <!-- 0 -->\n      <g transform=\"translate(131.727206 27.655947)scale(0.1 -0.1)\">\n       <use xlink:href=\"#DejaVuSans-48\"/>\n      </g>\n     </g>\n    </g>\n    <g id=\"ytick_6\">\n     <g id=\"line2d_10\">\n      <g>\n       <use style=\"stroke:#000000;stroke-width:0.8;\" x=\"145.089706\" xlink:href=\"#mbe644bdf9f\" y=\"54.628787\"/>\n      </g>\n     </g>\n     <g id=\"text_11\">\n      <!-- 10 -->\n      <g transform=\"translate(125.364706 58.428006)scale(0.1 -0.1)\">\n       <use xlink:href=\"#DejaVuSans-49\"/>\n       <use x=\"63.623047\" xlink:href=\"#DejaVuSans-48\"/>\n      </g>\n     </g>\n    </g>\n    <g id=\"ytick_7\">\n     <g id=\"line2d_11\">\n      <g>\n       <use style=\"stroke:#000000;stroke-width:0.8;\" x=\"145.089706\" xlink:href=\"#mbe644bdf9f\" y=\"85.400846\"/>\n      </g>\n     </g>\n     <g id=\"text_12\">\n      <!-- 20 -->\n      <g transform=\"translate(125.364706 89.200064)scale(0.1 -0.1)\">\n       <use xlink:href=\"#DejaVuSans-50\"/>\n       <use x=\"63.623047\" xlink:href=\"#DejaVuSans-48\"/>\n      </g>\n     </g>\n    </g>\n    <g id=\"ytick_8\">\n     <g id=\"line2d_12\">\n      <g>\n       <use style=\"stroke:#000000;stroke-width:0.8;\" x=\"145.089706\" xlink:href=\"#mbe644bdf9f\" y=\"116.172904\"/>\n      </g>\n     </g>\n     <g id=\"text_13\">\n      <!-- 30 -->\n      <g transform=\"translate(125.364706 119.972123)scale(0.1 -0.1)\">\n       <use xlink:href=\"#DejaVuSans-51\"/>\n       <use x=\"63.623047\" xlink:href=\"#DejaVuSans-48\"/>\n      </g>\n     </g>\n    </g>\n   </g>\n   <g id=\"patch_8\">\n    <path d=\"M 145.089706 120.788713 \nL 145.089706 22.318125 \n\" style=\"fill:none;stroke:#000000;stroke-linecap:square;stroke-linejoin:miter;stroke-width:0.8;\"/>\n   </g>\n   <g id=\"patch_9\">\n    <path d=\"M 243.560294 120.788713 \nL 243.560294 22.318125 \n\" style=\"fill:none;stroke:#000000;stroke-linecap:square;stroke-linejoin:miter;stroke-width:0.8;\"/>\n   </g>\n   <g id=\"patch_10\">\n    <path d=\"M 145.089706 120.788713 \nL 243.560294 120.788713 \n\" style=\"fill:none;stroke:#000000;stroke-linecap:square;stroke-linejoin:miter;stroke-width:0.8;\"/>\n   </g>\n   <g id=\"patch_11\">\n    <path d=\"M 145.089706 22.318125 \nL 243.560294 22.318125 \n\" style=\"fill:none;stroke:#000000;stroke-linecap:square;stroke-linejoin:miter;stroke-width:0.8;\"/>\n   </g>\n   <g id=\"text_14\">\n    <!-- 7 -->\n    <g transform=\"translate(190.5075 16.318125)scale(0.12 -0.12)\">\n     <defs>\n      <path d=\"M 8.203125 72.90625 \nL 55.078125 72.90625 \nL 55.078125 68.703125 \nL 28.609375 0 \nL 18.3125 0 \nL 43.21875 64.59375 \nL 8.203125 64.59375 \nz\n\" id=\"DejaVuSans-55\"/>\n     </defs>\n     <use xlink:href=\"#DejaVuSans-55\"/>\n    </g>\n   </g>\n  </g>\n  <g id=\"axes_3\">\n   <g id=\"patch_12\">\n    <path d=\"M 263.254412 120.788713 \nL 361.725 120.788713 \nL 361.725 22.318125 \nL 263.254412 22.318125 \nz\n\" style=\"fill:#ffffff;\"/>\n   </g>\n   <g clip-path=\"url(#p87424f81e7)\">\n    <image height=\"99\" id=\"image00a6d188cf\" transform=\"scale(1 -1)translate(0 -99)\" width=\"99\" x=\"263.254412\" xlink:href=\"data:image/png;base64,\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\" y=\"-21.788713\"/>\n   </g>\n   <g id=\"matplotlib.axis_5\">\n    <g id=\"xtick_5\">\n     <g id=\"line2d_13\">\n      <g>\n       <use style=\"stroke:#000000;stroke-width:0.8;\" x=\"264.793015\" xlink:href=\"#mdc139cf3c1\" y=\"120.788713\"/>\n      </g>\n     </g>\n     <g id=\"text_15\">\n      <!-- 0 -->\n      <g transform=\"translate(261.611765 135.387151)scale(0.1 -0.1)\">\n       <use xlink:href=\"#DejaVuSans-48\"/>\n      </g>\n     </g>\n    </g>\n    <g id=\"xtick_6\">\n     <g id=\"line2d_14\">\n      <g>\n       <use style=\"stroke:#000000;stroke-width:0.8;\" x=\"326.337132\" xlink:href=\"#mdc139cf3c1\" y=\"120.788713\"/>\n      </g>\n     </g>\n     <g id=\"text_16\">\n      <!-- 20 -->\n      <g transform=\"translate(319.974632 135.387151)scale(0.1 -0.1)\">\n       <use xlink:href=\"#DejaVuSans-50\"/>\n       <use x=\"63.623047\" xlink:href=\"#DejaVuSans-48\"/>\n      </g>\n     </g>\n    </g>\n   </g>\n   <g id=\"matplotlib.axis_6\">\n    <g id=\"ytick_9\">\n     <g id=\"line2d_15\">\n      <g>\n       <use style=\"stroke:#000000;stroke-width:0.8;\" x=\"263.254412\" xlink:href=\"#mbe644bdf9f\" y=\"23.856728\"/>\n      </g>\n     </g>\n     <g id=\"text_17\">\n      <!-- 0 -->\n      <g transform=\"translate(249.891912 27.655947)scale(0.1 -0.1)\">\n       <use xlink:href=\"#DejaVuSans-48\"/>\n      </g>\n     </g>\n    </g>\n    <g id=\"ytick_10\">\n     <g id=\"line2d_16\">\n      <g>\n       <use style=\"stroke:#000000;stroke-width:0.8;\" x=\"263.254412\" xlink:href=\"#mbe644bdf9f\" y=\"54.628787\"/>\n      </g>\n     </g>\n     <g id=\"text_18\">\n      <!-- 10 -->\n      <g transform=\"translate(243.529412 58.428006)scale(0.1 -0.1)\">\n       <use xlink:href=\"#DejaVuSans-49\"/>\n       <use x=\"63.623047\" xlink:href=\"#DejaVuSans-48\"/>\n      </g>\n     </g>\n    </g>\n    <g id=\"ytick_11\">\n     <g id=\"line2d_17\">\n      <g>\n       <use style=\"stroke:#000000;stroke-width:0.8;\" x=\"263.254412\" xlink:href=\"#mbe644bdf9f\" y=\"85.400846\"/>\n      </g>\n     </g>\n     <g id=\"text_19\">\n      <!-- 20 -->\n      <g transform=\"translate(243.529412 89.200064)scale(0.1 -0.1)\">\n       <use xlink:href=\"#DejaVuSans-50\"/>\n       <use x=\"63.623047\" xlink:href=\"#DejaVuSans-48\"/>\n      </g>\n     </g>\n    </g>\n    <g id=\"ytick_12\">\n     <g id=\"line2d_18\">\n      <g>\n       <use style=\"stroke:#000000;stroke-width:0.8;\" x=\"263.254412\" xlink:href=\"#mbe644bdf9f\" y=\"116.172904\"/>\n      </g>\n     </g>\n     <g id=\"text_20\">\n      <!-- 30 -->\n      <g transform=\"translate(243.529412 119.972123)scale(0.1 -0.1)\">\n       <use xlink:href=\"#DejaVuSans-51\"/>\n       <use x=\"63.623047\" xlink:href=\"#DejaVuSans-48\"/>\n      </g>\n     </g>\n    </g>\n   </g>\n   <g id=\"patch_13\">\n    <path d=\"M 263.254412 120.788713 \nL 263.254412 22.318125 \n\" style=\"fill:none;stroke:#000000;stroke-linecap:square;stroke-linejoin:miter;stroke-width:0.8;\"/>\n   </g>\n   <g id=\"patch_14\">\n    <path d=\"M 361.725 120.788713 \nL 361.725 22.318125 \n\" style=\"fill:none;stroke:#000000;stroke-linecap:square;stroke-linejoin:miter;stroke-width:0.8;\"/>\n   </g>\n   <g id=\"patch_15\">\n    <path d=\"M 263.254412 120.788713 \nL 361.725 120.788713 \n\" style=\"fill:none;stroke:#000000;stroke-linecap:square;stroke-linejoin:miter;stroke-width:0.8;\"/>\n   </g>\n   <g id=\"patch_16\">\n    <path d=\"M 263.254412 22.318125 \nL 361.725 22.318125 \n\" style=\"fill:none;stroke:#000000;stroke-linecap:square;stroke-linejoin:miter;stroke-width:0.8;\"/>\n   </g>\n   <g id=\"text_21\">\n    <!-- 5 -->\n    <g transform=\"translate(308.672206 16.318125)scale(0.12 -0.12)\">\n     <defs>\n      <path d=\"M 10.796875 72.90625 \nL 49.515625 72.90625 \nL 49.515625 64.59375 \nL 19.828125 64.59375 \nL 19.828125 46.734375 \nQ 21.96875 47.46875 24.109375 47.828125 \nQ 26.265625 48.1875 28.421875 48.1875 \nQ 40.625 48.1875 47.75 41.5 \nQ 54.890625 34.8125 54.890625 23.390625 \nQ 54.890625 11.625 47.5625 5.09375 \nQ 40.234375 -1.421875 26.90625 -1.421875 \nQ 22.3125 -1.421875 17.546875 -0.640625 \nQ 12.796875 0.140625 7.71875 1.703125 \nL 7.71875 11.625 \nQ 12.109375 9.234375 16.796875 8.0625 \nQ 21.484375 6.890625 26.703125 6.890625 \nQ 35.15625 6.890625 40.078125 11.328125 \nQ 45.015625 15.765625 45.015625 23.390625 \nQ 45.015625 31 40.078125 35.4375 \nQ 35.15625 39.890625 26.703125 39.890625 \nQ 22.75 39.890625 18.8125 39.015625 \nQ 14.890625 38.140625 10.796875 36.28125 \nz\n\" id=\"DejaVuSans-53\"/>\n     </defs>\n     <use xlink:href=\"#DejaVuSans-53\"/>\n    </g>\n   </g>\n  </g>\n  <g id=\"axes_4\">\n   <g id=\"patch_17\">\n    <path d=\"M 26.925 239.39235 \nL 125.395588 239.39235 \nL 125.395588 140.921761 \nL 26.925 140.921761 \nz\n\" style=\"fill:#ffffff;\"/>\n   </g>\n   <g clip-path=\"url(#pc6f6227a15)\">\n    <image height=\"99\" id=\"image80ffbdce25\" transform=\"scale(1 -1)translate(0 -99)\" width=\"99\" x=\"26.925\" xlink:href=\"data:image/png;base64,\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\" y=\"-140.39235\"/>\n   </g>\n   <g id=\"matplotlib.axis_7\">\n    <g id=\"xtick_7\">\n     <g id=\"line2d_19\">\n      <g>\n       <use style=\"stroke:#000000;stroke-width:0.8;\" x=\"28.463603\" xlink:href=\"#mdc139cf3c1\" y=\"239.39235\"/>\n      </g>\n     </g>\n     <g id=\"text_22\">\n      <!-- 0 -->\n      <g transform=\"translate(25.282353 253.990787)scale(0.1 -0.1)\">\n       <use xlink:href=\"#DejaVuSans-48\"/>\n      </g>\n     </g>\n    </g>\n    <g id=\"xtick_8\">\n     <g id=\"line2d_20\">\n      <g>\n       <use style=\"stroke:#000000;stroke-width:0.8;\" x=\"90.007721\" xlink:href=\"#mdc139cf3c1\" y=\"239.39235\"/>\n      </g>\n     </g>\n     <g id=\"text_23\">\n      <!-- 20 -->\n      <g transform=\"translate(83.645221 253.990787)scale(0.1 -0.1)\">\n       <use xlink:href=\"#DejaVuSans-50\"/>\n       <use x=\"63.623047\" xlink:href=\"#DejaVuSans-48\"/>\n      </g>\n     </g>\n    </g>\n   </g>\n   <g id=\"matplotlib.axis_8\">\n    <g id=\"ytick_13\">\n     <g id=\"line2d_21\">\n      <g>\n       <use style=\"stroke:#000000;stroke-width:0.8;\" x=\"26.925\" xlink:href=\"#mbe644bdf9f\" y=\"142.460364\"/>\n      </g>\n     </g>\n     <g id=\"text_24\">\n      <!-- 0 -->\n      <g transform=\"translate(13.5625 146.259583)scale(0.1 -0.1)\">\n       <use xlink:href=\"#DejaVuSans-48\"/>\n      </g>\n     </g>\n    </g>\n    <g id=\"ytick_14\">\n     <g id=\"line2d_22\">\n      <g>\n       <use style=\"stroke:#000000;stroke-width:0.8;\" x=\"26.925\" xlink:href=\"#mbe644bdf9f\" y=\"173.232423\"/>\n      </g>\n     </g>\n     <g id=\"text_25\">\n      <!-- 10 -->\n      <g transform=\"translate(7.2 177.031642)scale(0.1 -0.1)\">\n       <use xlink:href=\"#DejaVuSans-49\"/>\n       <use x=\"63.623047\" xlink:href=\"#DejaVuSans-48\"/>\n      </g>\n     </g>\n    </g>\n    <g id=\"ytick_15\">\n     <g id=\"line2d_23\">\n      <g>\n       <use style=\"stroke:#000000;stroke-width:0.8;\" x=\"26.925\" xlink:href=\"#mbe644bdf9f\" y=\"204.004482\"/>\n      </g>\n     </g>\n     <g id=\"text_26\">\n      <!-- 20 -->\n      <g transform=\"translate(7.2 207.803701)scale(0.1 -0.1)\">\n       <use xlink:href=\"#DejaVuSans-50\"/>\n       <use x=\"63.623047\" xlink:href=\"#DejaVuSans-48\"/>\n      </g>\n     </g>\n    </g>\n    <g id=\"ytick_16\">\n     <g id=\"line2d_24\">\n      <g>\n       <use style=\"stroke:#000000;stroke-width:0.8;\" x=\"26.925\" xlink:href=\"#mbe644bdf9f\" y=\"234.776541\"/>\n      </g>\n     </g>\n     <g id=\"text_27\">\n      <!-- 30 -->\n      <g transform=\"translate(7.2 238.57576)scale(0.1 -0.1)\">\n       <use xlink:href=\"#DejaVuSans-51\"/>\n       <use x=\"63.623047\" xlink:href=\"#DejaVuSans-48\"/>\n      </g>\n     </g>\n    </g>\n   </g>\n   <g id=\"patch_18\">\n    <path d=\"M 26.925 239.39235 \nL 26.925 140.921761 \n\" style=\"fill:none;stroke:#000000;stroke-linecap:square;stroke-linejoin:miter;stroke-width:0.8;\"/>\n   </g>\n   <g id=\"patch_19\">\n    <path d=\"M 125.395588 239.39235 \nL 125.395588 140.921761 \n\" style=\"fill:none;stroke:#000000;stroke-linecap:square;stroke-linejoin:miter;stroke-width:0.8;\"/>\n   </g>\n   <g id=\"patch_20\">\n    <path d=\"M 26.925 239.39235 \nL 125.395588 239.39235 \n\" style=\"fill:none;stroke:#000000;stroke-linecap:square;stroke-linejoin:miter;stroke-width:0.8;\"/>\n   </g>\n   <g id=\"patch_21\">\n    <path d=\"M 26.925 140.921761 \nL 125.395588 140.921761 \n\" style=\"fill:none;stroke:#000000;stroke-linecap:square;stroke-linejoin:miter;stroke-width:0.8;\"/>\n   </g>\n   <g id=\"text_28\">\n    <!-- 6 -->\n    <g transform=\"translate(72.342794 134.921761)scale(0.12 -0.12)\">\n     <defs>\n      <path d=\"M 33.015625 40.375 \nQ 26.375 40.375 22.484375 35.828125 \nQ 18.609375 31.296875 18.609375 23.390625 \nQ 18.609375 15.53125 22.484375 10.953125 \nQ 26.375 6.390625 33.015625 6.390625 \nQ 39.65625 6.390625 43.53125 10.953125 \nQ 47.40625 15.53125 47.40625 23.390625 \nQ 47.40625 31.296875 43.53125 35.828125 \nQ 39.65625 40.375 33.015625 40.375 \nz\nM 52.59375 71.296875 \nL 52.59375 62.3125 \nQ 48.875 64.0625 45.09375 64.984375 \nQ 41.3125 65.921875 37.59375 65.921875 \nQ 27.828125 65.921875 22.671875 59.328125 \nQ 17.53125 52.734375 16.796875 39.40625 \nQ 19.671875 43.65625 24.015625 45.921875 \nQ 28.375 48.1875 33.59375 48.1875 \nQ 44.578125 48.1875 50.953125 41.515625 \nQ 57.328125 34.859375 57.328125 23.390625 \nQ 57.328125 12.15625 50.6875 5.359375 \nQ 44.046875 -1.421875 33.015625 -1.421875 \nQ 20.359375 -1.421875 13.671875 8.265625 \nQ 6.984375 17.96875 6.984375 36.375 \nQ 6.984375 53.65625 15.1875 63.9375 \nQ 23.390625 74.21875 37.203125 74.21875 \nQ 40.921875 74.21875 44.703125 73.484375 \nQ 48.484375 72.75 52.59375 71.296875 \nz\n\" id=\"DejaVuSans-54\"/>\n     </defs>\n     <use xlink:href=\"#DejaVuSans-54\"/>\n    </g>\n   </g>\n  </g>\n  <g id=\"axes_5\">\n   <g id=\"patch_22\">\n    <path d=\"M 145.089706 239.39235 \nL 243.560294 239.39235 \nL 243.560294 140.921761 \nL 145.089706 140.921761 \nz\n\" style=\"fill:#ffffff;\"/>\n   </g>\n   <g clip-path=\"url(#p31e05841af)\">\n    <image height=\"99\" id=\"image3e6b44ea30\" transform=\"scale(1 -1)translate(0 -99)\" width=\"99\" x=\"145.089706\" xlink:href=\"data:image/png;base64,\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\" y=\"-140.39235\"/>\n   </g>\n   <g id=\"matplotlib.axis_9\">\n    <g id=\"xtick_9\">\n     <g id=\"line2d_25\">\n      <g>\n       <use style=\"stroke:#000000;stroke-width:0.8;\" x=\"146.628309\" xlink:href=\"#mdc139cf3c1\" y=\"239.39235\"/>\n      </g>\n     </g>\n     <g id=\"text_29\">\n      <!-- 0 -->\n      <g transform=\"translate(143.447059 253.990787)scale(0.1 -0.1)\">\n       <use xlink:href=\"#DejaVuSans-48\"/>\n      </g>\n     </g>\n    </g>\n    <g id=\"xtick_10\">\n     <g id=\"line2d_26\">\n      <g>\n       <use style=\"stroke:#000000;stroke-width:0.8;\" x=\"208.172426\" xlink:href=\"#mdc139cf3c1\" y=\"239.39235\"/>\n      </g>\n     </g>\n     <g id=\"text_30\">\n      <!-- 20 -->\n      <g transform=\"translate(201.809926 253.990787)scale(0.1 -0.1)\">\n       <use xlink:href=\"#DejaVuSans-50\"/>\n       <use x=\"63.623047\" xlink:href=\"#DejaVuSans-48\"/>\n      </g>\n     </g>\n    </g>\n   </g>\n   <g id=\"matplotlib.axis_10\">\n    <g id=\"ytick_17\">\n     <g id=\"line2d_27\">\n      <g>\n       <use style=\"stroke:#000000;stroke-width:0.8;\" x=\"145.089706\" xlink:href=\"#mbe644bdf9f\" y=\"142.460364\"/>\n      </g>\n     </g>\n     <g id=\"text_31\">\n      <!-- 0 -->\n      <g transform=\"translate(131.727206 146.259583)scale(0.1 -0.1)\">\n       <use xlink:href=\"#DejaVuSans-48\"/>\n      </g>\n     </g>\n    </g>\n    <g id=\"ytick_18\">\n     <g id=\"line2d_28\">\n      <g>\n       <use style=\"stroke:#000000;stroke-width:0.8;\" x=\"145.089706\" xlink:href=\"#mbe644bdf9f\" y=\"173.232423\"/>\n      </g>\n     </g>\n     <g id=\"text_32\">\n      <!-- 10 -->\n      <g transform=\"translate(125.364706 177.031642)scale(0.1 -0.1)\">\n       <use xlink:href=\"#DejaVuSans-49\"/>\n       <use x=\"63.623047\" xlink:href=\"#DejaVuSans-48\"/>\n      </g>\n     </g>\n    </g>\n    <g id=\"ytick_19\">\n     <g id=\"line2d_29\">\n      <g>\n       <use style=\"stroke:#000000;stroke-width:0.8;\" x=\"145.089706\" xlink:href=\"#mbe644bdf9f\" y=\"204.004482\"/>\n      </g>\n     </g>\n     <g id=\"text_33\">\n      <!-- 20 -->\n      <g transform=\"translate(125.364706 207.803701)scale(0.1 -0.1)\">\n       <use xlink:href=\"#DejaVuSans-50\"/>\n       <use x=\"63.623047\" xlink:href=\"#DejaVuSans-48\"/>\n      </g>\n     </g>\n    </g>\n    <g id=\"ytick_20\">\n     <g id=\"line2d_30\">\n      <g>\n       <use style=\"stroke:#000000;stroke-width:0.8;\" x=\"145.089706\" xlink:href=\"#mbe644bdf9f\" y=\"234.776541\"/>\n      </g>\n     </g>\n     <g id=\"text_34\">\n      <!-- 30 -->\n      <g transform=\"translate(125.364706 238.57576)scale(0.1 -0.1)\">\n       <use xlink:href=\"#DejaVuSans-51\"/>\n       <use x=\"63.623047\" xlink:href=\"#DejaVuSans-48\"/>\n      </g>\n     </g>\n    </g>\n   </g>\n   <g id=\"patch_23\">\n    <path d=\"M 145.089706 239.39235 \nL 145.089706 140.921761 \n\" style=\"fill:none;stroke:#000000;stroke-linecap:square;stroke-linejoin:miter;stroke-width:0.8;\"/>\n   </g>\n   <g id=\"patch_24\">\n    <path d=\"M 243.560294 239.39235 \nL 243.560294 140.921761 \n\" style=\"fill:none;stroke:#000000;stroke-linecap:square;stroke-linejoin:miter;stroke-width:0.8;\"/>\n   </g>\n   <g id=\"patch_25\">\n    <path d=\"M 145.089706 239.39235 \nL 243.560294 239.39235 \n\" style=\"fill:none;stroke:#000000;stroke-linecap:square;stroke-linejoin:miter;stroke-width:0.8;\"/>\n   </g>\n   <g id=\"patch_26\">\n    <path d=\"M 145.089706 140.921761 \nL 243.560294 140.921761 \n\" style=\"fill:none;stroke:#000000;stroke-linecap:square;stroke-linejoin:miter;stroke-width:0.8;\"/>\n   </g>\n   <g id=\"text_35\">\n    <!-- 2 -->\n    <g transform=\"translate(190.5075 134.921761)scale(0.12 -0.12)\">\n     <use xlink:href=\"#DejaVuSans-50\"/>\n    </g>\n   </g>\n  </g>\n  <g id=\"axes_6\">\n   <g id=\"patch_27\">\n    <path d=\"M 263.254412 239.39235 \nL 361.725 239.39235 \nL 361.725 140.921761 \nL 263.254412 140.921761 \nz\n\" style=\"fill:#ffffff;\"/>\n   </g>\n   <g clip-path=\"url(#pff55ff614e)\">\n    <image height=\"99\" id=\"image5f2837c2d2\" transform=\"scale(1 -1)translate(0 -99)\" width=\"99\" x=\"263.254412\" xlink:href=\"data:image/png;base64,\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\" y=\"-140.39235\"/>\n   </g>\n   <g id=\"matplotlib.axis_11\">\n    <g id=\"xtick_11\">\n     <g id=\"line2d_31\">\n      <g>\n       <use style=\"stroke:#000000;stroke-width:0.8;\" x=\"264.793015\" xlink:href=\"#mdc139cf3c1\" y=\"239.39235\"/>\n      </g>\n     </g>\n     <g id=\"text_36\">\n      <!-- 0 -->\n      <g transform=\"translate(261.611765 253.990787)scale(0.1 -0.1)\">\n       <use xlink:href=\"#DejaVuSans-48\"/>\n      </g>\n     </g>\n    </g>\n    <g id=\"xtick_12\">\n     <g id=\"line2d_32\">\n      <g>\n       <use style=\"stroke:#000000;stroke-width:0.8;\" x=\"326.337132\" xlink:href=\"#mdc139cf3c1\" y=\"239.39235\"/>\n      </g>\n     </g>\n     <g id=\"text_37\">\n      <!-- 20 -->\n      <g transform=\"translate(319.974632 253.990787)scale(0.1 -0.1)\">\n       <use xlink:href=\"#DejaVuSans-50\"/>\n       <use x=\"63.623047\" xlink:href=\"#DejaVuSans-48\"/>\n      </g>\n     </g>\n    </g>\n   </g>\n   <g id=\"matplotlib.axis_12\">\n    <g id=\"ytick_21\">\n     <g id=\"line2d_33\">\n      <g>\n       <use style=\"stroke:#000000;stroke-width:0.8;\" x=\"263.254412\" xlink:href=\"#mbe644bdf9f\" y=\"142.460364\"/>\n      </g>\n     </g>\n     <g id=\"text_38\">\n      <!-- 0 -->\n      <g transform=\"translate(249.891912 146.259583)scale(0.1 -0.1)\">\n       <use xlink:href=\"#DejaVuSans-48\"/>\n      </g>\n     </g>\n    </g>\n    <g id=\"ytick_22\">\n     <g id=\"line2d_34\">\n      <g>\n       <use style=\"stroke:#000000;stroke-width:0.8;\" x=\"263.254412\" xlink:href=\"#mbe644bdf9f\" y=\"173.232423\"/>\n      </g>\n     </g>\n     <g id=\"text_39\">\n      <!-- 10 -->\n      <g transform=\"translate(243.529412 177.031642)scale(0.1 -0.1)\">\n       <use xlink:href=\"#DejaVuSans-49\"/>\n       <use x=\"63.623047\" xlink:href=\"#DejaVuSans-48\"/>\n      </g>\n     </g>\n    </g>\n    <g id=\"ytick_23\">\n     <g id=\"line2d_35\">\n      <g>\n       <use style=\"stroke:#000000;stroke-width:0.8;\" x=\"263.254412\" xlink:href=\"#mbe644bdf9f\" y=\"204.004482\"/>\n      </g>\n     </g>\n     <g id=\"text_40\">\n      <!-- 20 -->\n      <g transform=\"translate(243.529412 207.803701)scale(0.1 -0.1)\">\n       <use xlink:href=\"#DejaVuSans-50\"/>\n       <use x=\"63.623047\" xlink:href=\"#DejaVuSans-48\"/>\n      </g>\n     </g>\n    </g>\n    <g id=\"ytick_24\">\n     <g id=\"line2d_36\">\n      <g>\n       <use style=\"stroke:#000000;stroke-width:0.8;\" x=\"263.254412\" xlink:href=\"#mbe644bdf9f\" y=\"234.776541\"/>\n      </g>\n     </g>\n     <g id=\"text_41\">\n      <!-- 30 -->\n      <g transform=\"translate(243.529412 238.57576)scale(0.1 -0.1)\">\n       <use xlink:href=\"#DejaVuSans-51\"/>\n       <use x=\"63.623047\" xlink:href=\"#DejaVuSans-48\"/>\n      </g>\n     </g>\n    </g>\n   </g>\n   <g id=\"patch_28\">\n    <path d=\"M 263.254412 239.39235 \nL 263.254412 140.921761 \n\" style=\"fill:none;stroke:#000000;stroke-linecap:square;stroke-linejoin:miter;stroke-width:0.8;\"/>\n   </g>\n   <g id=\"patch_29\">\n    <path d=\"M 361.725 239.39235 \nL 361.725 140.921761 \n\" style=\"fill:none;stroke:#000000;stroke-linecap:square;stroke-linejoin:miter;stroke-width:0.8;\"/>\n   </g>\n   <g id=\"patch_30\">\n    <path d=\"M 263.254412 239.39235 \nL 361.725 239.39235 \n\" style=\"fill:none;stroke:#000000;stroke-linecap:square;stroke-linejoin:miter;stroke-width:0.8;\"/>\n   </g>\n   <g id=\"patch_31\">\n    <path d=\"M 263.254412 140.921761 \nL 361.725 140.921761 \n\" style=\"fill:none;stroke:#000000;stroke-linecap:square;stroke-linejoin:miter;stroke-width:0.8;\"/>\n   </g>\n   <g id=\"text_42\">\n    <!-- 0 -->\n    <g transform=\"translate(308.672206 134.921761)scale(0.12 -0.12)\">\n     <use xlink:href=\"#DejaVuSans-48\"/>\n    </g>\n   </g>\n  </g>\n </g>\n <defs>\n  <clipPath id=\"peb026c2b7c\">\n   <rect height=\"98.470588\" width=\"98.470588\" x=\"26.925\" y=\"22.318125\"/>\n  </clipPath>\n  <clipPath id=\"p5994fd0dba\">\n   <rect height=\"98.470588\" width=\"98.470588\" x=\"145.089706\" y=\"22.318125\"/>\n  </clipPath>\n  <clipPath id=\"p87424f81e7\">\n   <rect height=\"98.470588\" width=\"98.470588\" x=\"263.254412\" y=\"22.318125\"/>\n  </clipPath>\n  <clipPath id=\"pc6f6227a15\">\n   <rect height=\"98.470588\" width=\"98.470588\" x=\"26.925\" y=\"140.921761\"/>\n  </clipPath>\n  <clipPath id=\"p31e05841af\">\n   <rect height=\"98.470588\" width=\"98.470588\" x=\"145.089706\" y=\"140.921761\"/>\n  </clipPath>\n  <clipPath id=\"pff55ff614e\">\n   <rect height=\"98.470588\" width=\"98.470588\" x=\"263.254412\" y=\"140.921761\"/>\n  </clipPath>\n </defs>\n</svg>\n",
      "image/png": "[encoded data removed]"
     },
     "metadata": {
      "needs_background": "light"
     }
    }
   ],
   "source": [
    "for i in range(6):\n",
    "    plt.subplot(2,3,i+1)\n",
    "    plt.title(example_targets[i].item())\n",
    "    plt.imshow(example_data[i][0], cmap='gray')\n",
    "plt.show()"
   ]
  },
  {
   "cell_type": "code",
   "execution_count": 8,
   "metadata": {},
   "outputs": [],
   "source": [
    "class ClientStartNN(nn.Module):\n",
    "    def __init__(self, input_size, hidden_size1):\n",
    "        super(ClientStartNN, self).__init__()\n",
    "        self.l1 = nn.Linear(input_size, hidden_size1)\n",
    "        self.relu = nn.ReLU()\n",
    "\n",
    "    def forward(self, x):\n",
    "        out = self.l1(x)\n",
    "        out = self.relu(out)\n",
    "        return out\n",
    "\n",
    "startModels = []\n",
    "for i in range(num_clients):\n",
    "    startModels.append(ClientStartNN(input_size, hidden_size1).to(device))"
   ]
  },
  {
   "cell_type": "code",
   "execution_count": 9,
   "metadata": {},
   "outputs": [],
   "source": [
    "class ServerNN(nn.Module):\n",
    "    def __init__(self, hidden_size1, hidden_size2):\n",
    "        super(ServerNN, self).__init__()\n",
    "        # self.input_size = input_size\n",
    "        # self.l1 = nn.Linear(input_size, hidden_size)\n",
    "        self.l2 = nn.Linear(hidden_size1, hidden_size2)\n",
    "        self.relu = nn.ReLU()\n",
    "    \n",
    "    def forward(self, x):\n",
    "        # out = self.l1(x)\n",
    "        # out = self.relu(out)\n",
    "        # out = self.l2(out)\n",
    "        out = self.l2(x)\n",
    "        out = self.relu(out)\n",
    "        return out\n",
    "\n",
    "serverModel = ServerNN(hidden_size1, hidden_size2).to(device)"
   ]
  },
  {
   "cell_type": "code",
   "execution_count": 10,
   "metadata": {},
   "outputs": [],
   "source": [
    "class ClientEndNN(nn.Module):\n",
    "    def __init__(self, hidden_size2, num_classes):\n",
    "        super(ClientEndNN, self).__init__()\n",
    "        self.input_size = input_size\n",
    "        self.l1 = nn.Linear(hidden_size2, num_classes)\n",
    "    \n",
    "    def forward(self, x):\n",
    "        out = self.l1(x)\n",
    "        return out\n",
    "\n",
    "endModels = []\n",
    "for i in range(num_clients):\n",
    "    endModels.append(ClientEndNN(hidden_size2, num_classes).to(device))"
   ]
  },
  {
   "cell_type": "code",
   "execution_count": 11,
   "metadata": {},
   "outputs": [],
   "source": [
    "# loss and optimizer\n",
    "criterion = nn.CrossEntropyLoss()\n",
    "\n",
    "startOptimizers = []\n",
    "for i in range(num_clients):\n",
    "    startOptimizers.append(torch.optim.Adam(startModels[i].parameters(), lr=learning_rate))\n",
    "\n",
    "\n",
    "serverOptimizer = torch.optim.Adam(serverModel.parameters(), lr=learning_rate)\n",
    "\n",
    "\n",
    "endOptimizers = []\n",
    "for i in range(num_clients):\n",
    "    endOptimizers.append(torch.optim.Adam(endModels[i].parameters(), lr=learning_rate))"
   ]
  },
  {
   "cell_type": "code",
   "execution_count": 12,
   "metadata": {},
   "outputs": [],
   "source": [
    "def mergeGrad(params):\n",
    "    # params = [params_client1,\n",
    "    #           params_client2,\n",
    "    #           params_client3\n",
    "    #           ...\n",
    "    #          ]\n",
    "    for col in zip(*params):\n",
    "        avg = 0\n",
    "        for param in col:\n",
    "            avg += param.grad\n",
    "        avg /= num_clients\n",
    "        for param in col:\n",
    "            param.grad = avg.clone()"
   ]
  },
  {
   "cell_type": "code",
   "execution_count": 13,
   "metadata": {
    "tags": []
   },
   "outputs": [
    {
     "output_type": "stream",
     "name": "stdout",
     "text": [
      "Epoch [1/20]: Avg Loss: 2.3052, Total Train Accuracy: 9.7200, Total Test Accuracy: 9.6500\n",
      "Epoch [2/20]: Avg Loss: 11.9555, Total Train Accuracy: 10.6320, Total Test Accuracy: 10.3900\n",
      "Epoch [3/20]: Avg Loss: 12.1652, Total Train Accuracy: 10.6860, Total Test Accuracy: 10.8200\n"
     ]
    },
    {
     "output_type": "error",
     "ename": "KeyboardInterrupt",
     "evalue": "",
     "traceback": [
      "\u001b[0;31m---------------------------------------------------------------------------\u001b[0m",
      "\u001b[0;31mKeyboardInterrupt\u001b[0m                         Traceback (most recent call last)",
      "\u001b[0;32m<ipython-input-13-e1a907585d5c>\u001b[0m in \u001b[0;36m<module>\u001b[0;34m\u001b[0m\n\u001b[1;32m     11\u001b[0m     \u001b[0mtest_n_samples\u001b[0m \u001b[0;34m=\u001b[0m \u001b[0;36m0\u001b[0m\u001b[0;34m\u001b[0m\u001b[0;34m\u001b[0m\u001b[0m\n\u001b[1;32m     12\u001b[0m     \u001b[0;32mfor\u001b[0m \u001b[0mclient\u001b[0m \u001b[0;32min\u001b[0m \u001b[0mrange\u001b[0m\u001b[0;34m(\u001b[0m\u001b[0mnum_clients\u001b[0m\u001b[0;34m)\u001b[0m\u001b[0;34m:\u001b[0m\u001b[0;34m\u001b[0m\u001b[0;34m\u001b[0m\u001b[0m\n\u001b[0;32m---> 13\u001b[0;31m         \u001b[0mimages\u001b[0m\u001b[0;34m,\u001b[0m \u001b[0mlabels\u001b[0m \u001b[0;34m=\u001b[0m \u001b[0miter\u001b[0m\u001b[0;34m(\u001b[0m\u001b[0mtrain_loaders\u001b[0m\u001b[0;34m[\u001b[0m\u001b[0mclient\u001b[0m\u001b[0;34m]\u001b[0m\u001b[0;34m)\u001b[0m\u001b[0;34m.\u001b[0m\u001b[0mnext\u001b[0m\u001b[0;34m(\u001b[0m\u001b[0;34m)\u001b[0m\u001b[0;34m\u001b[0m\u001b[0;34m\u001b[0m\u001b[0m\n\u001b[0m\u001b[1;32m     14\u001b[0m         \u001b[0;31m# print(images.shape)\u001b[0m\u001b[0;34m\u001b[0m\u001b[0;34m\u001b[0m\u001b[0;34m\u001b[0m\u001b[0m\n\u001b[1;32m     15\u001b[0m         \u001b[0mimages\u001b[0m \u001b[0;34m=\u001b[0m \u001b[0mimages\u001b[0m\u001b[0;34m.\u001b[0m\u001b[0mreshape\u001b[0m\u001b[0;34m(\u001b[0m\u001b[0;34m-\u001b[0m\u001b[0;36m1\u001b[0m\u001b[0;34m,\u001b[0m \u001b[0;36m3072\u001b[0m\u001b[0;34m)\u001b[0m\u001b[0;34m.\u001b[0m\u001b[0mto\u001b[0m\u001b[0;34m(\u001b[0m\u001b[0mdevice\u001b[0m\u001b[0;34m)\u001b[0m\u001b[0;34m\u001b[0m\u001b[0;34m\u001b[0m\u001b[0m\n",
      "\u001b[0;32m~/venvs/torch/syft-0.2.x/lib/python3.8/site-packages/torch/utils/data/dataloader.py\u001b[0m in \u001b[0;36m__next__\u001b[0;34m(self)\u001b[0m\n\u001b[1;32m    343\u001b[0m \u001b[0;34m\u001b[0m\u001b[0m\n\u001b[1;32m    344\u001b[0m     \u001b[0;32mdef\u001b[0m \u001b[0m__next__\u001b[0m\u001b[0;34m(\u001b[0m\u001b[0mself\u001b[0m\u001b[0;34m)\u001b[0m\u001b[0;34m:\u001b[0m\u001b[0;34m\u001b[0m\u001b[0;34m\u001b[0m\u001b[0m\n\u001b[0;32m--> 345\u001b[0;31m         \u001b[0mdata\u001b[0m \u001b[0;34m=\u001b[0m \u001b[0mself\u001b[0m\u001b[0;34m.\u001b[0m\u001b[0m_next_data\u001b[0m\u001b[0;34m(\u001b[0m\u001b[0;34m)\u001b[0m\u001b[0;34m\u001b[0m\u001b[0;34m\u001b[0m\u001b[0m\n\u001b[0m\u001b[1;32m    346\u001b[0m         \u001b[0mself\u001b[0m\u001b[0;34m.\u001b[0m\u001b[0m_num_yielded\u001b[0m \u001b[0;34m+=\u001b[0m \u001b[0;36m1\u001b[0m\u001b[0;34m\u001b[0m\u001b[0;34m\u001b[0m\u001b[0m\n\u001b[1;32m    347\u001b[0m         \u001b[0;32mif\u001b[0m \u001b[0mself\u001b[0m\u001b[0;34m.\u001b[0m\u001b[0m_dataset_kind\u001b[0m \u001b[0;34m==\u001b[0m \u001b[0m_DatasetKind\u001b[0m\u001b[0;34m.\u001b[0m\u001b[0mIterable\u001b[0m \u001b[0;32mand\u001b[0m\u001b[0;31m \u001b[0m\u001b[0;31m\\\u001b[0m\u001b[0;34m\u001b[0m\u001b[0;34m\u001b[0m\u001b[0m\n",
      "\u001b[0;32m~/venvs/torch/syft-0.2.x/lib/python3.8/site-packages/torch/utils/data/dataloader.py\u001b[0m in \u001b[0;36m_next_data\u001b[0;34m(self)\u001b[0m\n\u001b[1;32m    383\u001b[0m     \u001b[0;32mdef\u001b[0m \u001b[0m_next_data\u001b[0m\u001b[0;34m(\u001b[0m\u001b[0mself\u001b[0m\u001b[0;34m)\u001b[0m\u001b[0;34m:\u001b[0m\u001b[0;34m\u001b[0m\u001b[0;34m\u001b[0m\u001b[0m\n\u001b[1;32m    384\u001b[0m         \u001b[0mindex\u001b[0m \u001b[0;34m=\u001b[0m \u001b[0mself\u001b[0m\u001b[0;34m.\u001b[0m\u001b[0m_next_index\u001b[0m\u001b[0;34m(\u001b[0m\u001b[0;34m)\u001b[0m  \u001b[0;31m# may raise StopIteration\u001b[0m\u001b[0;34m\u001b[0m\u001b[0;34m\u001b[0m\u001b[0m\n\u001b[0;32m--> 385\u001b[0;31m         \u001b[0mdata\u001b[0m \u001b[0;34m=\u001b[0m \u001b[0mself\u001b[0m\u001b[0;34m.\u001b[0m\u001b[0m_dataset_fetcher\u001b[0m\u001b[0;34m.\u001b[0m\u001b[0mfetch\u001b[0m\u001b[0;34m(\u001b[0m\u001b[0mindex\u001b[0m\u001b[0;34m)\u001b[0m  \u001b[0;31m# may raise StopIteration\u001b[0m\u001b[0;34m\u001b[0m\u001b[0;34m\u001b[0m\u001b[0m\n\u001b[0m\u001b[1;32m    386\u001b[0m         \u001b[0;32mif\u001b[0m \u001b[0mself\u001b[0m\u001b[0;34m.\u001b[0m\u001b[0m_pin_memory\u001b[0m\u001b[0;34m:\u001b[0m\u001b[0;34m\u001b[0m\u001b[0;34m\u001b[0m\u001b[0m\n\u001b[1;32m    387\u001b[0m             \u001b[0mdata\u001b[0m \u001b[0;34m=\u001b[0m \u001b[0m_utils\u001b[0m\u001b[0;34m.\u001b[0m\u001b[0mpin_memory\u001b[0m\u001b[0;34m.\u001b[0m\u001b[0mpin_memory\u001b[0m\u001b[0;34m(\u001b[0m\u001b[0mdata\u001b[0m\u001b[0;34m)\u001b[0m\u001b[0;34m\u001b[0m\u001b[0;34m\u001b[0m\u001b[0m\n",
      "\u001b[0;32m~/venvs/torch/syft-0.2.x/lib/python3.8/site-packages/torch/utils/data/_utils/fetch.py\u001b[0m in \u001b[0;36mfetch\u001b[0;34m(self, possibly_batched_index)\u001b[0m\n\u001b[1;32m     42\u001b[0m     \u001b[0;32mdef\u001b[0m \u001b[0mfetch\u001b[0m\u001b[0;34m(\u001b[0m\u001b[0mself\u001b[0m\u001b[0;34m,\u001b[0m \u001b[0mpossibly_batched_index\u001b[0m\u001b[0;34m)\u001b[0m\u001b[0;34m:\u001b[0m\u001b[0;34m\u001b[0m\u001b[0;34m\u001b[0m\u001b[0m\n\u001b[1;32m     43\u001b[0m         \u001b[0;32mif\u001b[0m \u001b[0mself\u001b[0m\u001b[0;34m.\u001b[0m\u001b[0mauto_collation\u001b[0m\u001b[0;34m:\u001b[0m\u001b[0;34m\u001b[0m\u001b[0;34m\u001b[0m\u001b[0m\n\u001b[0;32m---> 44\u001b[0;31m             \u001b[0mdata\u001b[0m \u001b[0;34m=\u001b[0m \u001b[0;34m[\u001b[0m\u001b[0mself\u001b[0m\u001b[0;34m.\u001b[0m\u001b[0mdataset\u001b[0m\u001b[0;34m[\u001b[0m\u001b[0midx\u001b[0m\u001b[0;34m]\u001b[0m \u001b[0;32mfor\u001b[0m \u001b[0midx\u001b[0m \u001b[0;32min\u001b[0m \u001b[0mpossibly_batched_index\u001b[0m\u001b[0;34m]\u001b[0m\u001b[0;34m\u001b[0m\u001b[0;34m\u001b[0m\u001b[0m\n\u001b[0m\u001b[1;32m     45\u001b[0m         \u001b[0;32melse\u001b[0m\u001b[0;34m:\u001b[0m\u001b[0;34m\u001b[0m\u001b[0;34m\u001b[0m\u001b[0m\n\u001b[1;32m     46\u001b[0m             \u001b[0mdata\u001b[0m \u001b[0;34m=\u001b[0m \u001b[0mself\u001b[0m\u001b[0;34m.\u001b[0m\u001b[0mdataset\u001b[0m\u001b[0;34m[\u001b[0m\u001b[0mpossibly_batched_index\u001b[0m\u001b[0;34m]\u001b[0m\u001b[0;34m\u001b[0m\u001b[0;34m\u001b[0m\u001b[0m\n",
      "\u001b[0;32m~/venvs/torch/syft-0.2.x/lib/python3.8/site-packages/torch/utils/data/_utils/fetch.py\u001b[0m in \u001b[0;36m<listcomp>\u001b[0;34m(.0)\u001b[0m\n\u001b[1;32m     42\u001b[0m     \u001b[0;32mdef\u001b[0m \u001b[0mfetch\u001b[0m\u001b[0;34m(\u001b[0m\u001b[0mself\u001b[0m\u001b[0;34m,\u001b[0m \u001b[0mpossibly_batched_index\u001b[0m\u001b[0;34m)\u001b[0m\u001b[0;34m:\u001b[0m\u001b[0;34m\u001b[0m\u001b[0;34m\u001b[0m\u001b[0m\n\u001b[1;32m     43\u001b[0m         \u001b[0;32mif\u001b[0m \u001b[0mself\u001b[0m\u001b[0;34m.\u001b[0m\u001b[0mauto_collation\u001b[0m\u001b[0;34m:\u001b[0m\u001b[0;34m\u001b[0m\u001b[0;34m\u001b[0m\u001b[0m\n\u001b[0;32m---> 44\u001b[0;31m             \u001b[0mdata\u001b[0m \u001b[0;34m=\u001b[0m \u001b[0;34m[\u001b[0m\u001b[0mself\u001b[0m\u001b[0;34m.\u001b[0m\u001b[0mdataset\u001b[0m\u001b[0;34m[\u001b[0m\u001b[0midx\u001b[0m\u001b[0;34m]\u001b[0m \u001b[0;32mfor\u001b[0m \u001b[0midx\u001b[0m \u001b[0;32min\u001b[0m \u001b[0mpossibly_batched_index\u001b[0m\u001b[0;34m]\u001b[0m\u001b[0;34m\u001b[0m\u001b[0;34m\u001b[0m\u001b[0m\n\u001b[0m\u001b[1;32m     45\u001b[0m         \u001b[0;32melse\u001b[0m\u001b[0;34m:\u001b[0m\u001b[0;34m\u001b[0m\u001b[0;34m\u001b[0m\u001b[0m\n\u001b[1;32m     46\u001b[0m             \u001b[0mdata\u001b[0m \u001b[0;34m=\u001b[0m \u001b[0mself\u001b[0m\u001b[0;34m.\u001b[0m\u001b[0mdataset\u001b[0m\u001b[0;34m[\u001b[0m\u001b[0mpossibly_batched_index\u001b[0m\u001b[0;34m]\u001b[0m\u001b[0;34m\u001b[0m\u001b[0;34m\u001b[0m\u001b[0m\n",
      "\u001b[0;32m~/venvs/torch/syft-0.2.x/lib/python3.8/site-packages/torch/utils/data/dataset.py\u001b[0m in \u001b[0;36m__getitem__\u001b[0;34m(self, idx)\u001b[0m\n\u001b[1;32m    255\u001b[0m \u001b[0;34m\u001b[0m\u001b[0m\n\u001b[1;32m    256\u001b[0m     \u001b[0;32mdef\u001b[0m \u001b[0m__getitem__\u001b[0m\u001b[0;34m(\u001b[0m\u001b[0mself\u001b[0m\u001b[0;34m,\u001b[0m \u001b[0midx\u001b[0m\u001b[0;34m)\u001b[0m\u001b[0;34m:\u001b[0m\u001b[0;34m\u001b[0m\u001b[0;34m\u001b[0m\u001b[0m\n\u001b[0;32m--> 257\u001b[0;31m         \u001b[0;32mreturn\u001b[0m \u001b[0mself\u001b[0m\u001b[0;34m.\u001b[0m\u001b[0mdataset\u001b[0m\u001b[0;34m[\u001b[0m\u001b[0mself\u001b[0m\u001b[0;34m.\u001b[0m\u001b[0mindices\u001b[0m\u001b[0;34m[\u001b[0m\u001b[0midx\u001b[0m\u001b[0;34m]\u001b[0m\u001b[0;34m]\u001b[0m\u001b[0;34m\u001b[0m\u001b[0;34m\u001b[0m\u001b[0m\n\u001b[0m\u001b[1;32m    258\u001b[0m \u001b[0;34m\u001b[0m\u001b[0m\n\u001b[1;32m    259\u001b[0m     \u001b[0;32mdef\u001b[0m \u001b[0m__len__\u001b[0m\u001b[0;34m(\u001b[0m\u001b[0mself\u001b[0m\u001b[0;34m)\u001b[0m\u001b[0;34m:\u001b[0m\u001b[0;34m\u001b[0m\u001b[0;34m\u001b[0m\u001b[0m\n",
      "\u001b[0;32m~/venvs/torch/syft-0.2.x/lib/python3.8/site-packages/torchvision/datasets/cifar.py\u001b[0m in \u001b[0;36m__getitem__\u001b[0;34m(self, index)\u001b[0m\n\u001b[1;32m    123\u001b[0m \u001b[0;34m\u001b[0m\u001b[0m\n\u001b[1;32m    124\u001b[0m         \u001b[0;32mif\u001b[0m \u001b[0mself\u001b[0m\u001b[0;34m.\u001b[0m\u001b[0mtransform\u001b[0m \u001b[0;32mis\u001b[0m \u001b[0;32mnot\u001b[0m \u001b[0;32mNone\u001b[0m\u001b[0;34m:\u001b[0m\u001b[0;34m\u001b[0m\u001b[0;34m\u001b[0m\u001b[0m\n\u001b[0;32m--> 125\u001b[0;31m             \u001b[0mimg\u001b[0m \u001b[0;34m=\u001b[0m \u001b[0mself\u001b[0m\u001b[0;34m.\u001b[0m\u001b[0mtransform\u001b[0m\u001b[0;34m(\u001b[0m\u001b[0mimg\u001b[0m\u001b[0;34m)\u001b[0m\u001b[0;34m\u001b[0m\u001b[0;34m\u001b[0m\u001b[0m\n\u001b[0m\u001b[1;32m    126\u001b[0m \u001b[0;34m\u001b[0m\u001b[0m\n\u001b[1;32m    127\u001b[0m         \u001b[0;32mif\u001b[0m \u001b[0mself\u001b[0m\u001b[0;34m.\u001b[0m\u001b[0mtarget_transform\u001b[0m \u001b[0;32mis\u001b[0m \u001b[0;32mnot\u001b[0m \u001b[0;32mNone\u001b[0m\u001b[0;34m:\u001b[0m\u001b[0;34m\u001b[0m\u001b[0;34m\u001b[0m\u001b[0m\n",
      "\u001b[0;32m~/venvs/torch/syft-0.2.x/lib/python3.8/site-packages/torchvision/transforms/transforms.py\u001b[0m in \u001b[0;36m__call__\u001b[0;34m(self, pic)\u001b[0m\n\u001b[1;32m     99\u001b[0m             \u001b[0mTensor\u001b[0m\u001b[0;34m:\u001b[0m \u001b[0mConverted\u001b[0m \u001b[0mimage\u001b[0m\u001b[0;34m.\u001b[0m\u001b[0;34m\u001b[0m\u001b[0;34m\u001b[0m\u001b[0m\n\u001b[1;32m    100\u001b[0m         \"\"\"\n\u001b[0;32m--> 101\u001b[0;31m         \u001b[0;32mreturn\u001b[0m \u001b[0mF\u001b[0m\u001b[0;34m.\u001b[0m\u001b[0mto_tensor\u001b[0m\u001b[0;34m(\u001b[0m\u001b[0mpic\u001b[0m\u001b[0;34m)\u001b[0m\u001b[0;34m\u001b[0m\u001b[0;34m\u001b[0m\u001b[0m\n\u001b[0m\u001b[1;32m    102\u001b[0m \u001b[0;34m\u001b[0m\u001b[0m\n\u001b[1;32m    103\u001b[0m     \u001b[0;32mdef\u001b[0m \u001b[0m__repr__\u001b[0m\u001b[0;34m(\u001b[0m\u001b[0mself\u001b[0m\u001b[0;34m)\u001b[0m\u001b[0;34m:\u001b[0m\u001b[0;34m\u001b[0m\u001b[0;34m\u001b[0m\u001b[0m\n",
      "\u001b[0;32m~/venvs/torch/syft-0.2.x/lib/python3.8/site-packages/torchvision/transforms/functional.py\u001b[0m in \u001b[0;36mto_tensor\u001b[0;34m(pic)\u001b[0m\n\u001b[1;32m     85\u001b[0m         \u001b[0mimg\u001b[0m \u001b[0;34m=\u001b[0m \u001b[0;36m255\u001b[0m \u001b[0;34m*\u001b[0m \u001b[0mtorch\u001b[0m\u001b[0;34m.\u001b[0m\u001b[0mfrom_numpy\u001b[0m\u001b[0;34m(\u001b[0m\u001b[0mnp\u001b[0m\u001b[0;34m.\u001b[0m\u001b[0marray\u001b[0m\u001b[0;34m(\u001b[0m\u001b[0mpic\u001b[0m\u001b[0;34m,\u001b[0m \u001b[0mnp\u001b[0m\u001b[0;34m.\u001b[0m\u001b[0muint8\u001b[0m\u001b[0;34m,\u001b[0m \u001b[0mcopy\u001b[0m\u001b[0;34m=\u001b[0m\u001b[0;32mFalse\u001b[0m\u001b[0;34m)\u001b[0m\u001b[0;34m)\u001b[0m\u001b[0;34m\u001b[0m\u001b[0;34m\u001b[0m\u001b[0m\n\u001b[1;32m     86\u001b[0m     \u001b[0;32melse\u001b[0m\u001b[0;34m:\u001b[0m\u001b[0;34m\u001b[0m\u001b[0;34m\u001b[0m\u001b[0m\n\u001b[0;32m---> 87\u001b[0;31m         \u001b[0mimg\u001b[0m \u001b[0;34m=\u001b[0m \u001b[0mtorch\u001b[0m\u001b[0;34m.\u001b[0m\u001b[0mByteTensor\u001b[0m\u001b[0;34m(\u001b[0m\u001b[0mtorch\u001b[0m\u001b[0;34m.\u001b[0m\u001b[0mByteStorage\u001b[0m\u001b[0;34m.\u001b[0m\u001b[0mfrom_buffer\u001b[0m\u001b[0;34m(\u001b[0m\u001b[0mpic\u001b[0m\u001b[0;34m.\u001b[0m\u001b[0mtobytes\u001b[0m\u001b[0;34m(\u001b[0m\u001b[0;34m)\u001b[0m\u001b[0;34m)\u001b[0m\u001b[0;34m)\u001b[0m\u001b[0;34m\u001b[0m\u001b[0;34m\u001b[0m\u001b[0m\n\u001b[0m\u001b[1;32m     88\u001b[0m     \u001b[0;31m# PIL image mode: L, LA, P, I, F, RGB, YCbCr, RGBA, CMYK\u001b[0m\u001b[0;34m\u001b[0m\u001b[0;34m\u001b[0m\u001b[0;34m\u001b[0m\u001b[0m\n\u001b[1;32m     89\u001b[0m     \u001b[0;32mif\u001b[0m \u001b[0mpic\u001b[0m\u001b[0;34m.\u001b[0m\u001b[0mmode\u001b[0m \u001b[0;34m==\u001b[0m \u001b[0;34m'YCbCr'\u001b[0m\u001b[0;34m:\u001b[0m\u001b[0;34m\u001b[0m\u001b[0;34m\u001b[0m\u001b[0m\n",
      "\u001b[0;31mKeyboardInterrupt\u001b[0m: "
     ]
    }
   ],
   "source": [
    "# training loop\n",
    "total_train_acc = []\n",
    "total_test_acc = []\n",
    "for epoch in range(num_epochs):\n",
    "    grads = []\n",
    "    losses = []\n",
    "    n_correct = 0\n",
    "    test_n_correct = 0\n",
    "    n_samples = []\n",
    "    n_samples = 0\n",
    "    test_n_samples = 0\n",
    "    for client in range(num_clients):\n",
    "        images, labels = iter(train_loaders[client]).next()\n",
    "        # print(images.shape)\n",
    "        images = images.reshape(-1, 3072).to(device)\n",
    "        # print(images.shape)\n",
    "        labels = labels.to(device)\n",
    "\n",
    "        ## Forward\n",
    "        # Forward through starting layers (with client 1)\n",
    "        activations1 = startModels[client](images)\n",
    "        remote_activations1 = activations1.detach().requires_grad_(True)      \n",
    "\n",
    "        # Forward through middle layers (with server) \n",
    "        activations2 = serverModel(remote_activations1)\n",
    "        remote_activations2 = activations2.detach().requires_grad_(True)\n",
    "\n",
    "        # Forward through ending layers (with client 1)\n",
    "        outputs = endModels[client](remote_activations2)\n",
    "\n",
    "\n",
    "        # loss\n",
    "        loss = criterion(outputs, labels)\n",
    "        losses.append(loss.item())\n",
    "\n",
    "\n",
    "        # Calculating Train Accuracy\n",
    "        with torch.no_grad():\n",
    "            _, predicted = torch.max(outputs.data, 1)\n",
    "            n_correct += (predicted == labels).sum().item()\n",
    "            n_samples += labels.size(0)\n",
    "        \n",
    "        # Calculating Test Accuracy\n",
    "        with torch.no_grad():\n",
    "            test_images, test_labels = iter(test_loaders[client]).next()\n",
    "            test_images = test_images.reshape(-1, 3072).to(device)\n",
    "            test_labels = test_labels.to(device)\n",
    "\n",
    "            ## Forward\n",
    "            # Forward through starting layers (with client 1)\n",
    "            test_activations1 = startModels[client](test_images)\n",
    "            test_remote_activations1 = test_activations1.detach().requires_grad_(True) \n",
    "\n",
    "            # Forward through middle layers (with server) \n",
    "            test_activations2 = serverModel(test_remote_activations1)\n",
    "            test_remote_activations2 = test_activations2.detach().requires_grad_(True)\n",
    "\n",
    "            # Forward through ending layers (with client 1)\n",
    "            test_outputs = endModels[client](test_remote_activations2)\n",
    "\n",
    "            # value, index\n",
    "            _, test_predicted = torch.max(test_outputs.data, 1)\n",
    "            test_n_correct += (test_predicted == test_labels).sum().item()\n",
    "            test_n_samples += test_labels.size(0)\n",
    "            # client_test_acc.append(100.0 * test_n_correct/test_n_samples)\n",
    "            # print(f\"Client {client}: {test_acc[-1]:.4f}\")\n",
    "\n",
    "\n",
    "        # backwards\n",
    "        startOptimizers[client].zero_grad()\n",
    "        serverOptimizer.zero_grad()\n",
    "        endOptimizers[client].zero_grad()\n",
    "\n",
    "        loss.backward()\n",
    "        activations2.backward(remote_activations2.grad)\n",
    "        activations1.backward(remote_activations1.grad)\n",
    "\n",
    "        startOptimizers[client].step()\n",
    "\n",
    "        grads.append(serverModel.parameters())\n",
    "        endOptimizers[client].step()\n",
    "\n",
    "    mergeGrad(grads)\n",
    "    serverOptimizer.step()\n",
    "\n",
    "    total_train_acc.append(100.0 * n_correct / n_samples)\n",
    "    total_test_acc.append(100.0 * test_n_correct / test_n_samples)\n",
    "    print(f'Epoch [{epoch+1}/{num_epochs}]: Avg Loss: {sum(losses)/num_clients:.4f}, Total Train Accuracy: {total_train_acc[-1]:.4f}, Total Test Accuracy: {total_test_acc[-1]:.4f}')"
   ]
  },
  {
   "cell_type": "code",
   "execution_count": null,
   "metadata": {},
   "outputs": [],
   "source": [
    "plt.plot(list(range(num_epochs)), total_train_acc, label=f'Train (Max: {max(total_train_acc):.4f}')\n",
    "plt.plot(list(range(num_epochs)), total_test_acc, label=f'Test (Max:{max(total_test_acc):.4f}')\n",
    "plt.title(f'{num_clients} Clients: Accuracy vs. Epochs')\n",
    "plt.ylabel('Accuracy')\n",
    "plt.xlabel('Epochs')\n",
    "plt.legend()\n",
    "plt.savefig(f'./Results/{num_clients} Clients Accuracy vs. Epochs.png', bbox_inches='tight')\n",
    "plt.show()"
   ]
  },
  {
   "cell_type": "code",
   "execution_count": null,
   "metadata": {},
   "outputs": [],
   "source": [
    "# test\n",
    "# print(\"Test accuracy for each client:\")\n",
    "with torch.no_grad():\n",
    "    n_correct = []\n",
    "    n_samples = []\n",
    "    test_acc = []\n",
    "    for client in range(num_clients):\n",
    "        images, labels = iter(test_loaders[client]).next()\n",
    "        images = images.reshape(-1, 784).to(device)\n",
    "        labels = labels.to(device)\n",
    "\n",
    "        ## Forward\n",
    "        # Forward through starting layers (with client 1)\n",
    "        activations1 = startModels[client](images)\n",
    "        remote_activations1 = activations1.detach().requires_grad_(True) \n",
    "\n",
    "        # Forward through middle layers (with server) \n",
    "        activations2 = serverModel(remote_activations1)\n",
    "        remote_activations2 = activations2.detach().requires_grad_(True)\n",
    "\n",
    "        # Forward through ending layers (with client 1)\n",
    "        outputs = endModels[client](remote_activations2)\n",
    "\n",
    "        # value, index\n",
    "        _, predicted = torch.max(outputs.data, 1)\n",
    "        n_correct.append((predicted == labels).sum().item())\n",
    "        n_samples.append(labels.size(0))\n",
    "        test_acc.append(100.0 * n_correct[-1]/n_samples[-1])\n",
    "        # print(f\"Client {client}: {test_acc[-1]:.4f}\")\n",
    "    print(f'Total Test Accuracy: {100*sum(n_correct)/sum(n_samples)}')\n",
    "plt.figure(figsize=(40, 7))\n",
    "plt.xlabel('Client Number')\n",
    "plt.ylabel(f'Accuracy (Avg: {100*sum(n_correct)/sum(n_samples):.4f})')\n",
    "plt.title(f'{num_clients} Clients: Test Accuracy for each client')\n",
    "plt.bar(list(range(num_clients)),test_acc)\n",
    "plt.figtext(0.5, 0, f\"Min: {min(test_acc):.2f}, Max: {max(test_acc):.2f}\", ha=\"center\", fontsize=15, bbox={\"alpha\":0.5, \"pad\":5})\n",
    "plt.savefig(f'./Results/{num_clients} Test Accuracy for each client.png', bbox_inches='tight')\n",
    "plt.show()"
   ]
  },
  {
   "cell_type": "code",
   "execution_count": null,
   "metadata": {},
   "outputs": [],
   "source": [
    "# test\n",
    "# print(\"Train accuracy for each client\")\n",
    "with torch.no_grad():\n",
    "    n_correct = []\n",
    "    n_samples = []\n",
    "    train_acc = []\n",
    "    for client in range(num_clients):\n",
    "        images, labels = iter(train_loaders[client]).next()\n",
    "        images = images.reshape(-1, 784).to(device)\n",
    "        labels = labels.to(device)\n",
    "\n",
    "        ## Forward\n",
    "        # Forward through starting layers (with client 1)\n",
    "        activations1 = startModels[client](images)\n",
    "        remote_activations1 = activations1.detach().requires_grad_(True) \n",
    "\n",
    "        # Forward through middle layers (with server) \n",
    "        activations2 = serverModel(remote_activations1)\n",
    "        remote_activations2 = activations2.detach().requires_grad_(True)\n",
    "\n",
    "        # Forward through ending layers (with client 1)\n",
    "        outputs = endModels[client](remote_activations2)\n",
    "\n",
    "        # value, index\n",
    "        _, predicted = torch.max(outputs.data, 1)\n",
    "        n_correct.append((predicted == labels).sum().item())\n",
    "        n_samples.append(labels.size(0))\n",
    "        train_acc.append(100.0 * n_correct[-1]/n_samples[-1])\n",
    "        # print(f\"Client {client}: {train_acc[-1]:.4f}\")\n",
    "    # print(f'Total Train Accuracy: {100*sum(n_correct)/sum(n_samples)}')\n",
    "plt.figure(figsize=(40, 7))\n",
    "plt.xlabel('Client Number')\n",
    "plt.ylabel(f'Accuracy (Avg: {100*sum(n_correct)/sum(n_samples):.4f})')\n",
    "plt.title(f'{num_clients} Clients: Train Accuracy for each client')\n",
    "plt.bar(list(range(num_clients)),train_acc)\n",
    "plt.figtext(0.5, 0, f\"Min: {min(test_acc):.2f}, Max: {max(test_acc):.2f}\", ha=\"center\", fontsize=15, bbox={\"alpha\":0.5, \"pad\":5})\n",
    "plt.savefig(f'./Results/{num_clients} Clients Train Accuracy for each client.png', bbox_inches='tight')\n",
    "plt.show()"
   ]
  },
  {
   "cell_type": "code",
   "execution_count": null,
   "metadata": {},
   "outputs": [],
   "source": []
  }
 ]
}